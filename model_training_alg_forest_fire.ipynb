{
 "cells": [
  {
   "cell_type": "code",
   "execution_count": 1,
   "id": "2b8d7fca",
   "metadata": {},
   "outputs": [],
   "source": [
    "import pandas as pd\n",
    "import numpy as np\n",
    "import matplotlib.pyplot as plt\n",
    "import seaborn as sns"
   ]
  },
  {
   "cell_type": "code",
   "execution_count": 2,
   "id": "0c2a247f",
   "metadata": {},
   "outputs": [],
   "source": [
    "df=pd.read_csv('Algerian_forest_fires_cleaned_dataset.csv')"
   ]
  },
  {
   "cell_type": "code",
   "execution_count": 3,
   "id": "6d3cbba4",
   "metadata": {},
   "outputs": [
    {
     "data": {
      "text/html": [
       "<div>\n",
       "<style scoped>\n",
       "    .dataframe tbody tr th:only-of-type {\n",
       "        vertical-align: middle;\n",
       "    }\n",
       "\n",
       "    .dataframe tbody tr th {\n",
       "        vertical-align: top;\n",
       "    }\n",
       "\n",
       "    .dataframe thead th {\n",
       "        text-align: right;\n",
       "    }\n",
       "</style>\n",
       "<table border=\"1\" class=\"dataframe\">\n",
       "  <thead>\n",
       "    <tr style=\"text-align: right;\">\n",
       "      <th></th>\n",
       "      <th>Unnamed: 0</th>\n",
       "      <th>day</th>\n",
       "      <th>month</th>\n",
       "      <th>year</th>\n",
       "      <th>Temperature</th>\n",
       "      <th>RH</th>\n",
       "      <th>Ws</th>\n",
       "      <th>Rain</th>\n",
       "      <th>FFMC</th>\n",
       "      <th>DMC</th>\n",
       "      <th>DC</th>\n",
       "      <th>ISI</th>\n",
       "      <th>BUI</th>\n",
       "      <th>FWI</th>\n",
       "      <th>Classes</th>\n",
       "      <th>region</th>\n",
       "    </tr>\n",
       "  </thead>\n",
       "  <tbody>\n",
       "    <tr>\n",
       "      <th>0</th>\n",
       "      <td>0</td>\n",
       "      <td>1</td>\n",
       "      <td>6</td>\n",
       "      <td>2012</td>\n",
       "      <td>29</td>\n",
       "      <td>57</td>\n",
       "      <td>18</td>\n",
       "      <td>0.0</td>\n",
       "      <td>65.7</td>\n",
       "      <td>3.4</td>\n",
       "      <td>7.6</td>\n",
       "      <td>1.3</td>\n",
       "      <td>3.4</td>\n",
       "      <td>0.5</td>\n",
       "      <td>not fire</td>\n",
       "      <td>0</td>\n",
       "    </tr>\n",
       "    <tr>\n",
       "      <th>1</th>\n",
       "      <td>1</td>\n",
       "      <td>2</td>\n",
       "      <td>6</td>\n",
       "      <td>2012</td>\n",
       "      <td>29</td>\n",
       "      <td>61</td>\n",
       "      <td>13</td>\n",
       "      <td>1.3</td>\n",
       "      <td>64.4</td>\n",
       "      <td>4.1</td>\n",
       "      <td>7.6</td>\n",
       "      <td>1.0</td>\n",
       "      <td>3.9</td>\n",
       "      <td>0.4</td>\n",
       "      <td>not fire</td>\n",
       "      <td>0</td>\n",
       "    </tr>\n",
       "    <tr>\n",
       "      <th>2</th>\n",
       "      <td>2</td>\n",
       "      <td>3</td>\n",
       "      <td>6</td>\n",
       "      <td>2012</td>\n",
       "      <td>26</td>\n",
       "      <td>82</td>\n",
       "      <td>22</td>\n",
       "      <td>13.1</td>\n",
       "      <td>47.1</td>\n",
       "      <td>2.5</td>\n",
       "      <td>7.1</td>\n",
       "      <td>0.3</td>\n",
       "      <td>2.7</td>\n",
       "      <td>0.1</td>\n",
       "      <td>not fire</td>\n",
       "      <td>0</td>\n",
       "    </tr>\n",
       "    <tr>\n",
       "      <th>3</th>\n",
       "      <td>3</td>\n",
       "      <td>4</td>\n",
       "      <td>6</td>\n",
       "      <td>2012</td>\n",
       "      <td>25</td>\n",
       "      <td>89</td>\n",
       "      <td>13</td>\n",
       "      <td>2.5</td>\n",
       "      <td>28.6</td>\n",
       "      <td>1.3</td>\n",
       "      <td>6.9</td>\n",
       "      <td>0.0</td>\n",
       "      <td>1.7</td>\n",
       "      <td>0.0</td>\n",
       "      <td>not fire</td>\n",
       "      <td>0</td>\n",
       "    </tr>\n",
       "    <tr>\n",
       "      <th>4</th>\n",
       "      <td>4</td>\n",
       "      <td>5</td>\n",
       "      <td>6</td>\n",
       "      <td>2012</td>\n",
       "      <td>27</td>\n",
       "      <td>77</td>\n",
       "      <td>16</td>\n",
       "      <td>0.0</td>\n",
       "      <td>64.8</td>\n",
       "      <td>3.0</td>\n",
       "      <td>14.2</td>\n",
       "      <td>1.2</td>\n",
       "      <td>3.9</td>\n",
       "      <td>0.5</td>\n",
       "      <td>not fire</td>\n",
       "      <td>0</td>\n",
       "    </tr>\n",
       "  </tbody>\n",
       "</table>\n",
       "</div>"
      ],
      "text/plain": [
       "   Unnamed: 0  day  month  year  Temperature  RH  Ws  Rain  FFMC  DMC    DC  \\\n",
       "0           0    1      6  2012           29  57  18   0.0  65.7  3.4   7.6   \n",
       "1           1    2      6  2012           29  61  13   1.3  64.4  4.1   7.6   \n",
       "2           2    3      6  2012           26  82  22  13.1  47.1  2.5   7.1   \n",
       "3           3    4      6  2012           25  89  13   2.5  28.6  1.3   6.9   \n",
       "4           4    5      6  2012           27  77  16   0.0  64.8  3.0  14.2   \n",
       "\n",
       "   ISI  BUI  FWI      Classes  region  \n",
       "0  1.3  3.4  0.5  not fire          0  \n",
       "1  1.0  3.9  0.4  not fire          0  \n",
       "2  0.3  2.7  0.1  not fire          0  \n",
       "3  0.0  1.7  0.0  not fire          0  \n",
       "4  1.2  3.9  0.5  not fire          0  "
      ]
     },
     "execution_count": 3,
     "metadata": {},
     "output_type": "execute_result"
    }
   ],
   "source": [
    "df.head()"
   ]
  },
  {
   "cell_type": "code",
   "execution_count": 4,
   "id": "532da94b",
   "metadata": {},
   "outputs": [
    {
     "data": {
      "text/plain": [
       "Index(['Unnamed: 0', 'day', 'month', 'year', 'Temperature', 'RH', 'Ws', 'Rain',\n",
       "       'FFMC', 'DMC', 'DC', 'ISI', 'BUI', 'FWI', 'Classes', 'region'],\n",
       "      dtype='object')"
      ]
     },
     "execution_count": 4,
     "metadata": {},
     "output_type": "execute_result"
    }
   ],
   "source": [
    "df.columns"
   ]
  },
  {
   "cell_type": "code",
   "execution_count": 5,
   "id": "f688b0b9",
   "metadata": {},
   "outputs": [],
   "source": [
    "# drop month date nd year\n",
    "df.drop(['day','month','year','Unnamed: 0'],axis=1,inplace=True)"
   ]
  },
  {
   "cell_type": "code",
   "execution_count": 6,
   "id": "ac58e410",
   "metadata": {},
   "outputs": [
    {
     "data": {
      "text/html": [
       "<div>\n",
       "<style scoped>\n",
       "    .dataframe tbody tr th:only-of-type {\n",
       "        vertical-align: middle;\n",
       "    }\n",
       "\n",
       "    .dataframe tbody tr th {\n",
       "        vertical-align: top;\n",
       "    }\n",
       "\n",
       "    .dataframe thead th {\n",
       "        text-align: right;\n",
       "    }\n",
       "</style>\n",
       "<table border=\"1\" class=\"dataframe\">\n",
       "  <thead>\n",
       "    <tr style=\"text-align: right;\">\n",
       "      <th></th>\n",
       "      <th>Temperature</th>\n",
       "      <th>RH</th>\n",
       "      <th>Ws</th>\n",
       "      <th>Rain</th>\n",
       "      <th>FFMC</th>\n",
       "      <th>DMC</th>\n",
       "      <th>DC</th>\n",
       "      <th>ISI</th>\n",
       "      <th>BUI</th>\n",
       "      <th>FWI</th>\n",
       "      <th>Classes</th>\n",
       "      <th>region</th>\n",
       "    </tr>\n",
       "  </thead>\n",
       "  <tbody>\n",
       "    <tr>\n",
       "      <th>0</th>\n",
       "      <td>29</td>\n",
       "      <td>57</td>\n",
       "      <td>18</td>\n",
       "      <td>0.0</td>\n",
       "      <td>65.7</td>\n",
       "      <td>3.4</td>\n",
       "      <td>7.6</td>\n",
       "      <td>1.3</td>\n",
       "      <td>3.4</td>\n",
       "      <td>0.5</td>\n",
       "      <td>not fire</td>\n",
       "      <td>0</td>\n",
       "    </tr>\n",
       "    <tr>\n",
       "      <th>1</th>\n",
       "      <td>29</td>\n",
       "      <td>61</td>\n",
       "      <td>13</td>\n",
       "      <td>1.3</td>\n",
       "      <td>64.4</td>\n",
       "      <td>4.1</td>\n",
       "      <td>7.6</td>\n",
       "      <td>1.0</td>\n",
       "      <td>3.9</td>\n",
       "      <td>0.4</td>\n",
       "      <td>not fire</td>\n",
       "      <td>0</td>\n",
       "    </tr>\n",
       "    <tr>\n",
       "      <th>2</th>\n",
       "      <td>26</td>\n",
       "      <td>82</td>\n",
       "      <td>22</td>\n",
       "      <td>13.1</td>\n",
       "      <td>47.1</td>\n",
       "      <td>2.5</td>\n",
       "      <td>7.1</td>\n",
       "      <td>0.3</td>\n",
       "      <td>2.7</td>\n",
       "      <td>0.1</td>\n",
       "      <td>not fire</td>\n",
       "      <td>0</td>\n",
       "    </tr>\n",
       "    <tr>\n",
       "      <th>3</th>\n",
       "      <td>25</td>\n",
       "      <td>89</td>\n",
       "      <td>13</td>\n",
       "      <td>2.5</td>\n",
       "      <td>28.6</td>\n",
       "      <td>1.3</td>\n",
       "      <td>6.9</td>\n",
       "      <td>0.0</td>\n",
       "      <td>1.7</td>\n",
       "      <td>0.0</td>\n",
       "      <td>not fire</td>\n",
       "      <td>0</td>\n",
       "    </tr>\n",
       "    <tr>\n",
       "      <th>4</th>\n",
       "      <td>27</td>\n",
       "      <td>77</td>\n",
       "      <td>16</td>\n",
       "      <td>0.0</td>\n",
       "      <td>64.8</td>\n",
       "      <td>3.0</td>\n",
       "      <td>14.2</td>\n",
       "      <td>1.2</td>\n",
       "      <td>3.9</td>\n",
       "      <td>0.5</td>\n",
       "      <td>not fire</td>\n",
       "      <td>0</td>\n",
       "    </tr>\n",
       "  </tbody>\n",
       "</table>\n",
       "</div>"
      ],
      "text/plain": [
       "   Temperature  RH  Ws  Rain  FFMC  DMC    DC  ISI  BUI  FWI      Classes  \\\n",
       "0           29  57  18   0.0  65.7  3.4   7.6  1.3  3.4  0.5  not fire      \n",
       "1           29  61  13   1.3  64.4  4.1   7.6  1.0  3.9  0.4  not fire      \n",
       "2           26  82  22  13.1  47.1  2.5   7.1  0.3  2.7  0.1  not fire      \n",
       "3           25  89  13   2.5  28.6  1.3   6.9  0.0  1.7  0.0  not fire      \n",
       "4           27  77  16   0.0  64.8  3.0  14.2  1.2  3.9  0.5  not fire      \n",
       "\n",
       "   region  \n",
       "0       0  \n",
       "1       0  \n",
       "2       0  \n",
       "3       0  \n",
       "4       0  "
      ]
     },
     "execution_count": 6,
     "metadata": {},
     "output_type": "execute_result"
    }
   ],
   "source": [
    "df.head()"
   ]
  },
  {
   "cell_type": "code",
   "execution_count": 7,
   "id": "f59d55cb",
   "metadata": {},
   "outputs": [],
   "source": [
    "# encoding\n",
    "df['Classes']=np.where(df['Classes'].str.contains('not fire'),0,1)"
   ]
  },
  {
   "cell_type": "code",
   "execution_count": 8,
   "id": "eff6bcbf",
   "metadata": {},
   "outputs": [
    {
     "data": {
      "text/plain": [
       "Classes\n",
       "1    138\n",
       "0    106\n",
       "Name: count, dtype: int64"
      ]
     },
     "execution_count": 8,
     "metadata": {},
     "output_type": "execute_result"
    }
   ],
   "source": [
    "df['Classes'].value_counts()"
   ]
  },
  {
   "cell_type": "code",
   "execution_count": 9,
   "id": "b5bb6fe3",
   "metadata": {},
   "outputs": [],
   "source": [
    "# independent and dependant features\n",
    "X=df.drop('FWI',axis=1)\n",
    "Y=df['FWI']"
   ]
  },
  {
   "cell_type": "code",
   "execution_count": 10,
   "id": "d7e633a0",
   "metadata": {},
   "outputs": [
    {
     "data": {
      "text/html": [
       "<div>\n",
       "<style scoped>\n",
       "    .dataframe tbody tr th:only-of-type {\n",
       "        vertical-align: middle;\n",
       "    }\n",
       "\n",
       "    .dataframe tbody tr th {\n",
       "        vertical-align: top;\n",
       "    }\n",
       "\n",
       "    .dataframe thead th {\n",
       "        text-align: right;\n",
       "    }\n",
       "</style>\n",
       "<table border=\"1\" class=\"dataframe\">\n",
       "  <thead>\n",
       "    <tr style=\"text-align: right;\">\n",
       "      <th></th>\n",
       "      <th>Temperature</th>\n",
       "      <th>RH</th>\n",
       "      <th>Ws</th>\n",
       "      <th>Rain</th>\n",
       "      <th>FFMC</th>\n",
       "      <th>DMC</th>\n",
       "      <th>DC</th>\n",
       "      <th>ISI</th>\n",
       "      <th>BUI</th>\n",
       "      <th>Classes</th>\n",
       "      <th>region</th>\n",
       "    </tr>\n",
       "  </thead>\n",
       "  <tbody>\n",
       "    <tr>\n",
       "      <th>0</th>\n",
       "      <td>29</td>\n",
       "      <td>57</td>\n",
       "      <td>18</td>\n",
       "      <td>0.0</td>\n",
       "      <td>65.7</td>\n",
       "      <td>3.4</td>\n",
       "      <td>7.6</td>\n",
       "      <td>1.3</td>\n",
       "      <td>3.4</td>\n",
       "      <td>0</td>\n",
       "      <td>0</td>\n",
       "    </tr>\n",
       "    <tr>\n",
       "      <th>1</th>\n",
       "      <td>29</td>\n",
       "      <td>61</td>\n",
       "      <td>13</td>\n",
       "      <td>1.3</td>\n",
       "      <td>64.4</td>\n",
       "      <td>4.1</td>\n",
       "      <td>7.6</td>\n",
       "      <td>1.0</td>\n",
       "      <td>3.9</td>\n",
       "      <td>0</td>\n",
       "      <td>0</td>\n",
       "    </tr>\n",
       "    <tr>\n",
       "      <th>2</th>\n",
       "      <td>26</td>\n",
       "      <td>82</td>\n",
       "      <td>22</td>\n",
       "      <td>13.1</td>\n",
       "      <td>47.1</td>\n",
       "      <td>2.5</td>\n",
       "      <td>7.1</td>\n",
       "      <td>0.3</td>\n",
       "      <td>2.7</td>\n",
       "      <td>0</td>\n",
       "      <td>0</td>\n",
       "    </tr>\n",
       "    <tr>\n",
       "      <th>3</th>\n",
       "      <td>25</td>\n",
       "      <td>89</td>\n",
       "      <td>13</td>\n",
       "      <td>2.5</td>\n",
       "      <td>28.6</td>\n",
       "      <td>1.3</td>\n",
       "      <td>6.9</td>\n",
       "      <td>0.0</td>\n",
       "      <td>1.7</td>\n",
       "      <td>0</td>\n",
       "      <td>0</td>\n",
       "    </tr>\n",
       "    <tr>\n",
       "      <th>4</th>\n",
       "      <td>27</td>\n",
       "      <td>77</td>\n",
       "      <td>16</td>\n",
       "      <td>0.0</td>\n",
       "      <td>64.8</td>\n",
       "      <td>3.0</td>\n",
       "      <td>14.2</td>\n",
       "      <td>1.2</td>\n",
       "      <td>3.9</td>\n",
       "      <td>0</td>\n",
       "      <td>0</td>\n",
       "    </tr>\n",
       "  </tbody>\n",
       "</table>\n",
       "</div>"
      ],
      "text/plain": [
       "   Temperature  RH  Ws  Rain  FFMC  DMC    DC  ISI  BUI  Classes  region\n",
       "0           29  57  18   0.0  65.7  3.4   7.6  1.3  3.4        0       0\n",
       "1           29  61  13   1.3  64.4  4.1   7.6  1.0  3.9        0       0\n",
       "2           26  82  22  13.1  47.1  2.5   7.1  0.3  2.7        0       0\n",
       "3           25  89  13   2.5  28.6  1.3   6.9  0.0  1.7        0       0\n",
       "4           27  77  16   0.0  64.8  3.0  14.2  1.2  3.9        0       0"
      ]
     },
     "execution_count": 10,
     "metadata": {},
     "output_type": "execute_result"
    }
   ],
   "source": [
    "X.head()"
   ]
  },
  {
   "cell_type": "code",
   "execution_count": 11,
   "id": "37d7732e",
   "metadata": {},
   "outputs": [
    {
     "data": {
      "text/plain": [
       "0    0.5\n",
       "1    0.4\n",
       "2    0.1\n",
       "3    0.0\n",
       "4    0.5\n",
       "Name: FWI, dtype: float64"
      ]
     },
     "execution_count": 11,
     "metadata": {},
     "output_type": "execute_result"
    }
   ],
   "source": [
    "Y.head()"
   ]
  },
  {
   "cell_type": "code",
   "execution_count": 12,
   "id": "031969e7",
   "metadata": {},
   "outputs": [],
   "source": [
    "# train test split\n",
    "from sklearn.model_selection import train_test_split\n",
    "X_train,X_test,Y_train,Y_test=train_test_split(X,Y,test_size=.25,random_state=42)"
   ]
  },
  {
   "cell_type": "code",
   "execution_count": 13,
   "id": "0f74fbe4",
   "metadata": {},
   "outputs": [
    {
     "data": {
      "text/plain": [
       "((183, 11), (61, 11), (183,), (61,))"
      ]
     },
     "execution_count": 13,
     "metadata": {},
     "output_type": "execute_result"
    }
   ],
   "source": [
    "X_train.shape,X_test.shape,Y_train.shape,Y_test.shape"
   ]
  },
  {
   "cell_type": "code",
   "execution_count": 14,
   "id": "2773addf",
   "metadata": {},
   "outputs": [
    {
     "data": {
      "text/html": [
       "<div>\n",
       "<style scoped>\n",
       "    .dataframe tbody tr th:only-of-type {\n",
       "        vertical-align: middle;\n",
       "    }\n",
       "\n",
       "    .dataframe tbody tr th {\n",
       "        vertical-align: top;\n",
       "    }\n",
       "\n",
       "    .dataframe thead th {\n",
       "        text-align: right;\n",
       "    }\n",
       "</style>\n",
       "<table border=\"1\" class=\"dataframe\">\n",
       "  <thead>\n",
       "    <tr style=\"text-align: right;\">\n",
       "      <th></th>\n",
       "      <th>Temperature</th>\n",
       "      <th>RH</th>\n",
       "      <th>Ws</th>\n",
       "      <th>Rain</th>\n",
       "      <th>FFMC</th>\n",
       "      <th>DMC</th>\n",
       "      <th>DC</th>\n",
       "      <th>ISI</th>\n",
       "      <th>BUI</th>\n",
       "      <th>Classes</th>\n",
       "      <th>region</th>\n",
       "    </tr>\n",
       "  </thead>\n",
       "  <tbody>\n",
       "    <tr>\n",
       "      <th>Temperature</th>\n",
       "      <td>1.000000</td>\n",
       "      <td>-0.664492</td>\n",
       "      <td>-0.249312</td>\n",
       "      <td>-0.375047</td>\n",
       "      <td>0.703238</td>\n",
       "      <td>0.485379</td>\n",
       "      <td>0.374673</td>\n",
       "      <td>0.607478</td>\n",
       "      <td>0.459776</td>\n",
       "      <td>0.512818</td>\n",
       "      <td>0.256099</td>\n",
       "    </tr>\n",
       "    <tr>\n",
       "      <th>RH</th>\n",
       "      <td>-0.664492</td>\n",
       "      <td>1.000000</td>\n",
       "      <td>0.235766</td>\n",
       "      <td>0.262550</td>\n",
       "      <td>-0.637201</td>\n",
       "      <td>-0.398168</td>\n",
       "      <td>-0.215075</td>\n",
       "      <td>-0.691612</td>\n",
       "      <td>-0.345860</td>\n",
       "      <td>-0.429397</td>\n",
       "      <td>-0.397053</td>\n",
       "    </tr>\n",
       "    <tr>\n",
       "      <th>Ws</th>\n",
       "      <td>-0.249312</td>\n",
       "      <td>0.235766</td>\n",
       "      <td>1.000000</td>\n",
       "      <td>0.262759</td>\n",
       "      <td>-0.169489</td>\n",
       "      <td>-0.013533</td>\n",
       "      <td>0.073923</td>\n",
       "      <td>0.011260</td>\n",
       "      <td>0.023266</td>\n",
       "      <td>-0.078171</td>\n",
       "      <td>-0.229797</td>\n",
       "    </tr>\n",
       "    <tr>\n",
       "      <th>Rain</th>\n",
       "      <td>-0.375047</td>\n",
       "      <td>0.262550</td>\n",
       "      <td>0.262759</td>\n",
       "      <td>1.000000</td>\n",
       "      <td>-0.585018</td>\n",
       "      <td>-0.291338</td>\n",
       "      <td>-0.296114</td>\n",
       "      <td>-0.354277</td>\n",
       "      <td>-0.301666</td>\n",
       "      <td>-0.394262</td>\n",
       "      <td>-0.096985</td>\n",
       "    </tr>\n",
       "    <tr>\n",
       "      <th>FFMC</th>\n",
       "      <td>0.703238</td>\n",
       "      <td>-0.637201</td>\n",
       "      <td>-0.169489</td>\n",
       "      <td>-0.585018</td>\n",
       "      <td>1.000000</td>\n",
       "      <td>0.602278</td>\n",
       "      <td>0.508348</td>\n",
       "      <td>0.745644</td>\n",
       "      <td>0.593647</td>\n",
       "      <td>0.774398</td>\n",
       "      <td>0.237434</td>\n",
       "    </tr>\n",
       "    <tr>\n",
       "      <th>DMC</th>\n",
       "      <td>0.485379</td>\n",
       "      <td>-0.398168</td>\n",
       "      <td>-0.013533</td>\n",
       "      <td>-0.291338</td>\n",
       "      <td>0.602278</td>\n",
       "      <td>1.000000</td>\n",
       "      <td>0.877045</td>\n",
       "      <td>0.657983</td>\n",
       "      <td>0.982049</td>\n",
       "      <td>0.580530</td>\n",
       "      <td>0.197489</td>\n",
       "    </tr>\n",
       "    <tr>\n",
       "      <th>DC</th>\n",
       "      <td>0.374673</td>\n",
       "      <td>-0.215075</td>\n",
       "      <td>0.073923</td>\n",
       "      <td>-0.296114</td>\n",
       "      <td>0.508348</td>\n",
       "      <td>0.877045</td>\n",
       "      <td>1.000000</td>\n",
       "      <td>0.503266</td>\n",
       "      <td>0.940947</td>\n",
       "      <td>0.501279</td>\n",
       "      <td>-0.079217</td>\n",
       "    </tr>\n",
       "    <tr>\n",
       "      <th>ISI</th>\n",
       "      <td>0.607478</td>\n",
       "      <td>-0.691612</td>\n",
       "      <td>0.011260</td>\n",
       "      <td>-0.354277</td>\n",
       "      <td>0.745644</td>\n",
       "      <td>0.657983</td>\n",
       "      <td>0.503266</td>\n",
       "      <td>1.000000</td>\n",
       "      <td>0.631317</td>\n",
       "      <td>0.745431</td>\n",
       "      <td>0.264224</td>\n",
       "    </tr>\n",
       "    <tr>\n",
       "      <th>BUI</th>\n",
       "      <td>0.459776</td>\n",
       "      <td>-0.345860</td>\n",
       "      <td>0.023266</td>\n",
       "      <td>-0.301666</td>\n",
       "      <td>0.593647</td>\n",
       "      <td>0.982049</td>\n",
       "      <td>0.940947</td>\n",
       "      <td>0.631317</td>\n",
       "      <td>1.000000</td>\n",
       "      <td>0.583986</td>\n",
       "      <td>0.093371</td>\n",
       "    </tr>\n",
       "    <tr>\n",
       "      <th>Classes</th>\n",
       "      <td>0.512818</td>\n",
       "      <td>-0.429397</td>\n",
       "      <td>-0.078171</td>\n",
       "      <td>-0.394262</td>\n",
       "      <td>0.774398</td>\n",
       "      <td>0.580530</td>\n",
       "      <td>0.501279</td>\n",
       "      <td>0.745431</td>\n",
       "      <td>0.583986</td>\n",
       "      <td>1.000000</td>\n",
       "      <td>0.158763</td>\n",
       "    </tr>\n",
       "    <tr>\n",
       "      <th>region</th>\n",
       "      <td>0.256099</td>\n",
       "      <td>-0.397053</td>\n",
       "      <td>-0.229797</td>\n",
       "      <td>-0.096985</td>\n",
       "      <td>0.237434</td>\n",
       "      <td>0.197489</td>\n",
       "      <td>-0.079217</td>\n",
       "      <td>0.264224</td>\n",
       "      <td>0.093371</td>\n",
       "      <td>0.158763</td>\n",
       "      <td>1.000000</td>\n",
       "    </tr>\n",
       "  </tbody>\n",
       "</table>\n",
       "</div>"
      ],
      "text/plain": [
       "             Temperature        RH        Ws      Rain      FFMC       DMC  \\\n",
       "Temperature     1.000000 -0.664492 -0.249312 -0.375047  0.703238  0.485379   \n",
       "RH             -0.664492  1.000000  0.235766  0.262550 -0.637201 -0.398168   \n",
       "Ws             -0.249312  0.235766  1.000000  0.262759 -0.169489 -0.013533   \n",
       "Rain           -0.375047  0.262550  0.262759  1.000000 -0.585018 -0.291338   \n",
       "FFMC            0.703238 -0.637201 -0.169489 -0.585018  1.000000  0.602278   \n",
       "DMC             0.485379 -0.398168 -0.013533 -0.291338  0.602278  1.000000   \n",
       "DC              0.374673 -0.215075  0.073923 -0.296114  0.508348  0.877045   \n",
       "ISI             0.607478 -0.691612  0.011260 -0.354277  0.745644  0.657983   \n",
       "BUI             0.459776 -0.345860  0.023266 -0.301666  0.593647  0.982049   \n",
       "Classes         0.512818 -0.429397 -0.078171 -0.394262  0.774398  0.580530   \n",
       "region          0.256099 -0.397053 -0.229797 -0.096985  0.237434  0.197489   \n",
       "\n",
       "                   DC       ISI       BUI   Classes    region  \n",
       "Temperature  0.374673  0.607478  0.459776  0.512818  0.256099  \n",
       "RH          -0.215075 -0.691612 -0.345860 -0.429397 -0.397053  \n",
       "Ws           0.073923  0.011260  0.023266 -0.078171 -0.229797  \n",
       "Rain        -0.296114 -0.354277 -0.301666 -0.394262 -0.096985  \n",
       "FFMC         0.508348  0.745644  0.593647  0.774398  0.237434  \n",
       "DMC          0.877045  0.657983  0.982049  0.580530  0.197489  \n",
       "DC           1.000000  0.503266  0.940947  0.501279 -0.079217  \n",
       "ISI          0.503266  1.000000  0.631317  0.745431  0.264224  \n",
       "BUI          0.940947  0.631317  1.000000  0.583986  0.093371  \n",
       "Classes      0.501279  0.745431  0.583986  1.000000  0.158763  \n",
       "region      -0.079217  0.264224  0.093371  0.158763  1.000000  "
      ]
     },
     "execution_count": 14,
     "metadata": {},
     "output_type": "execute_result"
    }
   ],
   "source": [
    "# feature sel based on corr\n",
    "X_train.corr()"
   ]
  },
  {
   "cell_type": "code",
   "execution_count": 15,
   "id": "b2648fc1",
   "metadata": {},
   "outputs": [
    {
     "data": {
      "text/html": [
       "<div>\n",
       "<style scoped>\n",
       "    .dataframe tbody tr th:only-of-type {\n",
       "        vertical-align: middle;\n",
       "    }\n",
       "\n",
       "    .dataframe tbody tr th {\n",
       "        vertical-align: top;\n",
       "    }\n",
       "\n",
       "    .dataframe thead th {\n",
       "        text-align: right;\n",
       "    }\n",
       "</style>\n",
       "<table border=\"1\" class=\"dataframe\">\n",
       "  <thead>\n",
       "    <tr style=\"text-align: right;\">\n",
       "      <th></th>\n",
       "      <th>Temperature</th>\n",
       "      <th>RH</th>\n",
       "      <th>Ws</th>\n",
       "      <th>Rain</th>\n",
       "      <th>FFMC</th>\n",
       "      <th>DMC</th>\n",
       "      <th>DC</th>\n",
       "      <th>ISI</th>\n",
       "      <th>BUI</th>\n",
       "      <th>Classes</th>\n",
       "      <th>region</th>\n",
       "    </tr>\n",
       "  </thead>\n",
       "  <tbody>\n",
       "    <tr>\n",
       "      <th>115</th>\n",
       "      <td>29</td>\n",
       "      <td>65</td>\n",
       "      <td>19</td>\n",
       "      <td>0.6</td>\n",
       "      <td>68.3</td>\n",
       "      <td>5.5</td>\n",
       "      <td>15.2</td>\n",
       "      <td>1.5</td>\n",
       "      <td>5.8</td>\n",
       "      <td>0</td>\n",
       "      <td>0</td>\n",
       "    </tr>\n",
       "    <tr>\n",
       "      <th>181</th>\n",
       "      <td>36</td>\n",
       "      <td>56</td>\n",
       "      <td>16</td>\n",
       "      <td>0.0</td>\n",
       "      <td>88.9</td>\n",
       "      <td>23.8</td>\n",
       "      <td>57.1</td>\n",
       "      <td>8.2</td>\n",
       "      <td>23.8</td>\n",
       "      <td>1</td>\n",
       "      <td>1</td>\n",
       "    </tr>\n",
       "    <tr>\n",
       "      <th>225</th>\n",
       "      <td>31</td>\n",
       "      <td>72</td>\n",
       "      <td>14</td>\n",
       "      <td>0.0</td>\n",
       "      <td>84.2</td>\n",
       "      <td>8.3</td>\n",
       "      <td>25.2</td>\n",
       "      <td>3.8</td>\n",
       "      <td>9.1</td>\n",
       "      <td>1</td>\n",
       "      <td>1</td>\n",
       "    </tr>\n",
       "    <tr>\n",
       "      <th>68</th>\n",
       "      <td>32</td>\n",
       "      <td>60</td>\n",
       "      <td>18</td>\n",
       "      <td>0.3</td>\n",
       "      <td>77.1</td>\n",
       "      <td>11.3</td>\n",
       "      <td>47.0</td>\n",
       "      <td>2.2</td>\n",
       "      <td>14.1</td>\n",
       "      <td>0</td>\n",
       "      <td>0</td>\n",
       "    </tr>\n",
       "    <tr>\n",
       "      <th>104</th>\n",
       "      <td>25</td>\n",
       "      <td>86</td>\n",
       "      <td>21</td>\n",
       "      <td>4.6</td>\n",
       "      <td>40.9</td>\n",
       "      <td>1.3</td>\n",
       "      <td>7.5</td>\n",
       "      <td>0.1</td>\n",
       "      <td>1.8</td>\n",
       "      <td>0</td>\n",
       "      <td>0</td>\n",
       "    </tr>\n",
       "  </tbody>\n",
       "</table>\n",
       "</div>"
      ],
      "text/plain": [
       "     Temperature  RH  Ws  Rain  FFMC   DMC    DC  ISI   BUI  Classes  region\n",
       "115           29  65  19   0.6  68.3   5.5  15.2  1.5   5.8        0       0\n",
       "181           36  56  16   0.0  88.9  23.8  57.1  8.2  23.8        1       1\n",
       "225           31  72  14   0.0  84.2   8.3  25.2  3.8   9.1        1       1\n",
       "68            32  60  18   0.3  77.1  11.3  47.0  2.2  14.1        0       0\n",
       "104           25  86  21   4.6  40.9   1.3   7.5  0.1   1.8        0       0"
      ]
     },
     "execution_count": 15,
     "metadata": {},
     "output_type": "execute_result"
    }
   ],
   "source": [
    "X_train.head()"
   ]
  },
  {
   "cell_type": "code",
   "execution_count": 16,
   "id": "d86a415c",
   "metadata": {},
   "outputs": [
    {
     "data": {
      "text/plain": [
       "<Axes: >"
      ]
     },
     "execution_count": 16,
     "metadata": {},
     "output_type": "execute_result"
    },
    {
     "data": {
      "image/png": "[encoded data removed]",
      "text/plain": [
       "<Figure size 1000x1000 with 2 Axes>"
      ]
     },
     "metadata": {},
     "output_type": "display_data"
    }
   ],
   "source": [
    "plt.figure(figsize=(10,10))\n",
    "corr=X_train.corr()\n",
    "sns.heatmap(corr,annot=True)"
   ]
  },
  {
   "cell_type": "code",
   "execution_count": 17,
   "id": "548db392",
   "metadata": {},
   "outputs": [],
   "source": [
    "def correlation(dataset,threshold):\n",
    "          col_corr=set()\n",
    "          corr_matrix=dataset.corr()\n",
    "          for i in range (len(corr_matrix.columns)):\n",
    "                    for j in range(i):\n",
    "                              if abs(corr_matrix.iloc[i,j])>threshold:\n",
    "                                        colname=corr_matrix.columns[i]\n",
    "                                        col_corr.add(colname)\n",
    "          return col_corr"
   ]
  },
  {
   "cell_type": "code",
   "execution_count": 18,
   "id": "2cc46e9b",
   "metadata": {},
   "outputs": [
    {
     "data": {
      "text/plain": [
       "{'BUI', 'DC'}"
      ]
     },
     "execution_count": 18,
     "metadata": {},
     "output_type": "execute_result"
    }
   ],
   "source": [
    "# threshhold\n",
    "corr_feat=correlation(X_train,.85)\n",
    "corr_feat"
   ]
  },
  {
   "cell_type": "code",
   "execution_count": 19,
   "id": "3f580337",
   "metadata": {},
   "outputs": [],
   "source": [
    "# eatures , when corr is more than .85\n",
    "X_train.drop(corr_feat,axis=1,inplace=True)\n",
    "X_test.drop(corr_feat,axis=1,inplace=True)"
   ]
  },
  {
   "cell_type": "code",
   "execution_count": 20,
   "id": "b1ac761b",
   "metadata": {},
   "outputs": [
    {
     "data": {
      "text/html": [
       "<div>\n",
       "<style scoped>\n",
       "    .dataframe tbody tr th:only-of-type {\n",
       "        vertical-align: middle;\n",
       "    }\n",
       "\n",
       "    .dataframe tbody tr th {\n",
       "        vertical-align: top;\n",
       "    }\n",
       "\n",
       "    .dataframe thead th {\n",
       "        text-align: right;\n",
       "    }\n",
       "</style>\n",
       "<table border=\"1\" class=\"dataframe\">\n",
       "  <thead>\n",
       "    <tr style=\"text-align: right;\">\n",
       "      <th></th>\n",
       "      <th>Temperature</th>\n",
       "      <th>RH</th>\n",
       "      <th>Ws</th>\n",
       "      <th>Rain</th>\n",
       "      <th>FFMC</th>\n",
       "      <th>DMC</th>\n",
       "      <th>ISI</th>\n",
       "      <th>Classes</th>\n",
       "      <th>region</th>\n",
       "    </tr>\n",
       "  </thead>\n",
       "  <tbody>\n",
       "    <tr>\n",
       "      <th>115</th>\n",
       "      <td>29</td>\n",
       "      <td>65</td>\n",
       "      <td>19</td>\n",
       "      <td>0.6</td>\n",
       "      <td>68.3</td>\n",
       "      <td>5.5</td>\n",
       "      <td>1.5</td>\n",
       "      <td>0</td>\n",
       "      <td>0</td>\n",
       "    </tr>\n",
       "    <tr>\n",
       "      <th>181</th>\n",
       "      <td>36</td>\n",
       "      <td>56</td>\n",
       "      <td>16</td>\n",
       "      <td>0.0</td>\n",
       "      <td>88.9</td>\n",
       "      <td>23.8</td>\n",
       "      <td>8.2</td>\n",
       "      <td>1</td>\n",
       "      <td>1</td>\n",
       "    </tr>\n",
       "    <tr>\n",
       "      <th>225</th>\n",
       "      <td>31</td>\n",
       "      <td>72</td>\n",
       "      <td>14</td>\n",
       "      <td>0.0</td>\n",
       "      <td>84.2</td>\n",
       "      <td>8.3</td>\n",
       "      <td>3.8</td>\n",
       "      <td>1</td>\n",
       "      <td>1</td>\n",
       "    </tr>\n",
       "    <tr>\n",
       "      <th>68</th>\n",
       "      <td>32</td>\n",
       "      <td>60</td>\n",
       "      <td>18</td>\n",
       "      <td>0.3</td>\n",
       "      <td>77.1</td>\n",
       "      <td>11.3</td>\n",
       "      <td>2.2</td>\n",
       "      <td>0</td>\n",
       "      <td>0</td>\n",
       "    </tr>\n",
       "    <tr>\n",
       "      <th>104</th>\n",
       "      <td>25</td>\n",
       "      <td>86</td>\n",
       "      <td>21</td>\n",
       "      <td>4.6</td>\n",
       "      <td>40.9</td>\n",
       "      <td>1.3</td>\n",
       "      <td>0.1</td>\n",
       "      <td>0</td>\n",
       "      <td>0</td>\n",
       "    </tr>\n",
       "  </tbody>\n",
       "</table>\n",
       "</div>"
      ],
      "text/plain": [
       "     Temperature  RH  Ws  Rain  FFMC   DMC  ISI  Classes  region\n",
       "115           29  65  19   0.6  68.3   5.5  1.5        0       0\n",
       "181           36  56  16   0.0  88.9  23.8  8.2        1       1\n",
       "225           31  72  14   0.0  84.2   8.3  3.8        1       1\n",
       "68            32  60  18   0.3  77.1  11.3  2.2        0       0\n",
       "104           25  86  21   4.6  40.9   1.3  0.1        0       0"
      ]
     },
     "execution_count": 20,
     "metadata": {},
     "output_type": "execute_result"
    }
   ],
   "source": [
    "X_train.head()"
   ]
  },
  {
   "cell_type": "code",
   "execution_count": 21,
   "id": "d145dca5",
   "metadata": {},
   "outputs": [
    {
     "data": {
      "text/plain": [
       "((183, 9), (61, 9))"
      ]
     },
     "execution_count": 21,
     "metadata": {},
     "output_type": "execute_result"
    }
   ],
   "source": [
    "X_train.shape,X_test.shape"
   ]
  },
  {
   "cell_type": "markdown",
   "id": "16323909",
   "metadata": {},
   "source": [
    "## feature scaling or standardisation"
   ]
  },
  {
   "cell_type": "code",
   "execution_count": 22,
   "id": "8ca53578",
   "metadata": {},
   "outputs": [],
   "source": [
    "from sklearn.preprocessing import StandardScaler\n",
    "scaler=StandardScaler()\n",
    "X_train_scaled=scaler.fit_transform(X_train)\n",
    "X_test_scaled=scaler.transform(X_test)"
   ]
  },
  {
   "cell_type": "code",
   "execution_count": 23,
   "id": "7711ccb7",
   "metadata": {},
   "outputs": [
    {
     "data": {
      "text/plain": [
       "array([[-0.81085018,  0.16311382,  1.29231566, ..., -0.77409606,\n",
       "        -1.1098231 , -1.00547949],\n",
       "       [ 1.06405791, -0.44884168,  0.15167049, ...,  0.84971776,\n",
       "         0.9010445 ,  0.99455037],\n",
       "       [-0.27516216,  0.63907922, -0.60875963, ..., -0.21666743,\n",
       "         0.9010445 ,  0.99455037],\n",
       "       ...,\n",
       "       [-1.88222624,  0.91105944,  0.53188555, ..., -1.08916441,\n",
       "        -1.1098231 , -1.00547949],\n",
       "       [ 0.26052587, -0.38084663,  0.15167049, ...,  0.48617735,\n",
       "         0.9010445 ,  0.99455037],\n",
       "       [-0.54300617,  0.9790545 ,  2.05274578, ..., -0.87104017,\n",
       "        -1.1098231 , -1.00547949]])"
      ]
     },
     "execution_count": 23,
     "metadata": {},
     "output_type": "execute_result"
    }
   ],
   "source": [
    "X_train_scaled"
   ]
  },
  {
   "cell_type": "markdown",
   "id": "015e8250",
   "metadata": {},
   "source": [
    "# box plot to understand rffrct of standard scaler"
   ]
  },
  {
   "cell_type": "code",
   "execution_count": 24,
   "id": "e72bdae5",
   "metadata": {},
   "outputs": [
    {
     "data": {
      "text/plain": [
       "Text(0.5, 1.0, 'xtrain aftr scaling')"
      ]
     },
     "execution_count": 24,
     "metadata": {},
     "output_type": "execute_result"
    },
    {
     "data": {
      "image/png": "[encoded data removed]",
      "text/plain": [
       "<Figure size 1500x500 with 3 Axes>"
      ]
     },
     "metadata": {},
     "output_type": "display_data"
    }
   ],
   "source": [
    "plt.subplots(figsize=(15,5))\n",
    "plt.subplot(1,2,1)\n",
    "sns.boxplot(data=X_train)\n",
    "plt.title(\"xtrain before scaling\")\n",
    "plt.subplot(1,2,2)\n",
    "sns.boxplot(data=X_train_scaled)\n",
    "plt.title(\"xtrain aftr scaling\")\n"
   ]
  },
  {
   "cell_type": "markdown",
   "id": "3c574637",
   "metadata": {},
   "source": [
    "## linear regression model"
   ]
  },
  {
   "cell_type": "code",
   "execution_count": 25,
   "id": "42b0a074",
   "metadata": {},
   "outputs": [
    {
     "name": "stdout",
     "output_type": "stream",
     "text": [
      "mae 0.5516452785962681\n",
      "r2 score 0.990325441548238\n"
     ]
    },
    {
     "data": {
      "text/plain": [
       "<matplotlib.collections.PathCollection at 0x1e1df1ca720>"
      ]
     },
     "execution_count": 25,
     "metadata": {},
     "output_type": "execute_result"
    },
    {
     "data": {
      "image/png": "[encoded data removed]",
      "text/plain": [
       "<Figure size 640x480 with 1 Axes>"
      ]
     },
     "metadata": {},
     "output_type": "display_data"
    }
   ],
   "source": [
    "from sklearn.linear_model import LinearRegression\n",
    "from sklearn.metrics import mean_absolute_error\n",
    "from sklearn.metrics import r2_score\n",
    "\n",
    "linreg=LinearRegression()\n",
    "linreg.fit(X_train_scaled,Y_train)\n",
    "y_pred=linreg.predict(X_test_scaled)\n",
    "mae=mean_absolute_error(Y_test,y_pred)\n",
    "score=r2_score(Y_test,y_pred)\n",
    "print(\"mae\",mae)\n",
    "print('r2 score',score)\n",
    "plt.scatter(Y_test,y_pred)\n"
   ]
  },
  {
   "cell_type": "markdown",
   "id": "9180a3d2",
   "metadata": {},
   "source": [
    "## LASSO REGRESSION"
   ]
  },
  {
   "cell_type": "code",
   "execution_count": 26,
   "id": "4fc9c755",
   "metadata": {},
   "outputs": [
    {
     "name": "stdout",
     "output_type": "stream",
     "text": [
      "mae 1.1862508609509752\n",
      "r2 score 0.9527186921986257\n"
     ]
    },
    {
     "data": {
      "text/plain": [
       "<matplotlib.collections.PathCollection at 0x1e1de8bc500>"
      ]
     },
     "execution_count": 26,
     "metadata": {},
     "output_type": "execute_result"
    },
    {
     "data": {
      "image/png": "[encoded data removed]",
      "text/plain": [
       "<Figure size 640x480 with 1 Axes>"
      ]
     },
     "metadata": {},
     "output_type": "display_data"
    }
   ],
   "source": [
    "from sklearn.linear_model import Lasso\n",
    "from sklearn.metrics import mean_absolute_error\n",
    "from sklearn.metrics import r2_score\n",
    "\n",
    "lasso=Lasso()\n",
    "lasso.fit(X_train_scaled,Y_train)\n",
    "y_pred=lasso.predict(X_test_scaled)\n",
    "mae=mean_absolute_error(Y_test,y_pred)\n",
    "score=r2_score(Y_test,y_pred)\n",
    "print(\"mae\",mae)\n",
    "print('r2 score',score)\n",
    "plt.scatter(Y_test,y_pred)\n"
   ]
  },
  {
   "cell_type": "code",
   "execution_count": 29,
   "id": "eb634922",
   "metadata": {},
   "outputs": [
    {
     "data": {
      "text/html": [
       "<style>#sk-container-id-1 {\n",
       "  /* Definition of color scheme common for light and dark mode */\n",
       "  --sklearn-color-text: black;\n",
       "  --sklearn-color-line: gray;\n",
       "  /* Definition of color scheme for unfitted estimators */\n",
       "  --sklearn-color-unfitted-level-0: #fff5e6;\n",
       "  --sklearn-color-unfitted-level-1: #f6e4d2;\n",
       "  --sklearn-color-unfitted-level-2: #ffe0b3;\n",
       "  --sklearn-color-unfitted-level-3: chocolate;\n",
       "  /* Definition of color scheme for fitted estimators */\n",
       "  --sklearn-color-fitted-level-0: #f0f8ff;\n",
       "  --sklearn-color-fitted-level-1: #d4ebff;\n",
       "  --sklearn-color-fitted-level-2: #b3dbfd;\n",
       "  --sklearn-color-fitted-level-3: cornflowerblue;\n",
       "\n",
       "  /* Specific color for light theme */\n",
       "  --sklearn-color-text-on-default-background: var(--sg-text-color, var(--theme-code-foreground, var(--jp-content-font-color1, black)));\n",
       "  --sklearn-color-background: var(--sg-background-color, var(--theme-background, var(--jp-layout-color0, white)));\n",
       "  --sklearn-color-border-box: var(--sg-text-color, var(--theme-code-foreground, var(--jp-content-font-color1, black)));\n",
       "  --sklearn-color-icon: #696969;\n",
       "\n",
       "  @media (prefers-color-scheme: dark) {\n",
       "    /* Redefinition of color scheme for dark theme */\n",
       "    --sklearn-color-text-on-default-background: var(--sg-text-color, var(--theme-code-foreground, var(--jp-content-font-color1, white)));\n",
       "    --sklearn-color-background: var(--sg-background-color, var(--theme-background, var(--jp-layout-color0, #111)));\n",
       "    --sklearn-color-border-box: var(--sg-text-color, var(--theme-code-foreground, var(--jp-content-font-color1, white)));\n",
       "    --sklearn-color-icon: #878787;\n",
       "  }\n",
       "}\n",
       "\n",
       "#sk-container-id-1 {\n",
       "  color: var(--sklearn-color-text);\n",
       "}\n",
       "\n",
       "#sk-container-id-1 pre {\n",
       "  padding: 0;\n",
       "}\n",
       "\n",
       "#sk-container-id-1 input.sk-hidden--visually {\n",
       "  border: 0;\n",
       "  clip: rect(1px 1px 1px 1px);\n",
       "  clip: rect(1px, 1px, 1px, 1px);\n",
       "  height: 1px;\n",
       "  margin: -1px;\n",
       "  overflow: hidden;\n",
       "  padding: 0;\n",
       "  position: absolute;\n",
       "  width: 1px;\n",
       "}\n",
       "\n",
       "#sk-container-id-1 div.sk-dashed-wrapped {\n",
       "  border: 1px dashed var(--sklearn-color-line);\n",
       "  margin: 0 0.4em 0.5em 0.4em;\n",
       "  box-sizing: border-box;\n",
       "  padding-bottom: 0.4em;\n",
       "  background-color: var(--sklearn-color-background);\n",
       "}\n",
       "\n",
       "#sk-container-id-1 div.sk-container {\n",
       "  /* jupyter's `normalize.less` sets `[hidden] { display: none; }`\n",
       "     but bootstrap.min.css set `[hidden] { display: none !important; }`\n",
       "     so we also need the `!important` here to be able to override the\n",
       "     default hidden behavior on the sphinx rendered scikit-learn.org.\n",
       "     See: https://github.com/scikit-learn/scikit-learn/issues/21755 */\n",
       "  display: inline-block !important;\n",
       "  position: relative;\n",
       "}\n",
       "\n",
       "#sk-container-id-1 div.sk-text-repr-fallback {\n",
       "  display: none;\n",
       "}\n",
       "\n",
       "div.sk-parallel-item,\n",
       "div.sk-serial,\n",
       "div.sk-item {\n",
       "  /* draw centered vertical line to link estimators */\n",
       "  background-image: linear-gradient(var(--sklearn-color-text-on-default-background), var(--sklearn-color-text-on-default-background));\n",
       "  background-size: 2px 100%;\n",
       "  background-repeat: no-repeat;\n",
       "  background-position: center center;\n",
       "}\n",
       "\n",
       "/* Parallel-specific style estimator block */\n",
       "\n",
       "#sk-container-id-1 div.sk-parallel-item::after {\n",
       "  content: \"\";\n",
       "  width: 100%;\n",
       "  border-bottom: 2px solid var(--sklearn-color-text-on-default-background);\n",
       "  flex-grow: 1;\n",
       "}\n",
       "\n",
       "#sk-container-id-1 div.sk-parallel {\n",
       "  display: flex;\n",
       "  align-items: stretch;\n",
       "  justify-content: center;\n",
       "  background-color: var(--sklearn-color-background);\n",
       "  position: relative;\n",
       "}\n",
       "\n",
       "#sk-container-id-1 div.sk-parallel-item {\n",
       "  display: flex;\n",
       "  flex-direction: column;\n",
       "}\n",
       "\n",
       "#sk-container-id-1 div.sk-parallel-item:first-child::after {\n",
       "  align-self: flex-end;\n",
       "  width: 50%;\n",
       "}\n",
       "\n",
       "#sk-container-id-1 div.sk-parallel-item:last-child::after {\n",
       "  align-self: flex-start;\n",
       "  width: 50%;\n",
       "}\n",
       "\n",
       "#sk-container-id-1 div.sk-parallel-item:only-child::after {\n",
       "  width: 0;\n",
       "}\n",
       "\n",
       "/* Serial-specific style estimator block */\n",
       "\n",
       "#sk-container-id-1 div.sk-serial {\n",
       "  display: flex;\n",
       "  flex-direction: column;\n",
       "  align-items: center;\n",
       "  background-color: var(--sklearn-color-background);\n",
       "  padding-right: 1em;\n",
       "  padding-left: 1em;\n",
       "}\n",
       "\n",
       "\n",
       "/* Toggleable style: style used for estimator/Pipeline/ColumnTransformer box that is\n",
       "clickable and can be expanded/collapsed.\n",
       "- Pipeline and ColumnTransformer use this feature and define the default style\n",
       "- Estimators will overwrite some part of the style using the `sk-estimator` class\n",
       "*/\n",
       "\n",
       "/* Pipeline and ColumnTransformer style (default) */\n",
       "\n",
       "#sk-container-id-1 div.sk-toggleable {\n",
       "  /* Default theme specific background. It is overwritten whether we have a\n",
       "  specific estimator or a Pipeline/ColumnTransformer */\n",
       "  background-color: var(--sklearn-color-background);\n",
       "}\n",
       "\n",
       "/* Toggleable label */\n",
       "#sk-container-id-1 label.sk-toggleable__label {\n",
       "  cursor: pointer;\n",
       "  display: block;\n",
       "  width: 100%;\n",
       "  margin-bottom: 0;\n",
       "  padding: 0.5em;\n",
       "  box-sizing: border-box;\n",
       "  text-align: center;\n",
       "}\n",
       "\n",
       "#sk-container-id-1 label.sk-toggleable__label-arrow:before {\n",
       "  /* Arrow on the left of the label */\n",
       "  content: \"▸\";\n",
       "  float: left;\n",
       "  margin-right: 0.25em;\n",
       "  color: var(--sklearn-color-icon);\n",
       "}\n",
       "\n",
       "#sk-container-id-1 label.sk-toggleable__label-arrow:hover:before {\n",
       "  color: var(--sklearn-color-text);\n",
       "}\n",
       "\n",
       "/* Toggleable content - dropdown */\n",
       "\n",
       "#sk-container-id-1 div.sk-toggleable__content {\n",
       "  max-height: 0;\n",
       "  max-width: 0;\n",
       "  overflow: hidden;\n",
       "  text-align: left;\n",
       "  /* unfitted */\n",
       "  background-color: var(--sklearn-color-unfitted-level-0);\n",
       "}\n",
       "\n",
       "#sk-container-id-1 div.sk-toggleable__content.fitted {\n",
       "  /* fitted */\n",
       "  background-color: var(--sklearn-color-fitted-level-0);\n",
       "}\n",
       "\n",
       "#sk-container-id-1 div.sk-toggleable__content pre {\n",
       "  margin: 0.2em;\n",
       "  border-radius: 0.25em;\n",
       "  color: var(--sklearn-color-text);\n",
       "  /* unfitted */\n",
       "  background-color: var(--sklearn-color-unfitted-level-0);\n",
       "}\n",
       "\n",
       "#sk-container-id-1 div.sk-toggleable__content.fitted pre {\n",
       "  /* unfitted */\n",
       "  background-color: var(--sklearn-color-fitted-level-0);\n",
       "}\n",
       "\n",
       "#sk-container-id-1 input.sk-toggleable__control:checked~div.sk-toggleable__content {\n",
       "  /* Expand drop-down */\n",
       "  max-height: 200px;\n",
       "  max-width: 100%;\n",
       "  overflow: auto;\n",
       "}\n",
       "\n",
       "#sk-container-id-1 input.sk-toggleable__control:checked~label.sk-toggleable__label-arrow:before {\n",
       "  content: \"▾\";\n",
       "}\n",
       "\n",
       "/* Pipeline/ColumnTransformer-specific style */\n",
       "\n",
       "#sk-container-id-1 div.sk-label input.sk-toggleable__control:checked~label.sk-toggleable__label {\n",
       "  color: var(--sklearn-color-text);\n",
       "  background-color: var(--sklearn-color-unfitted-level-2);\n",
       "}\n",
       "\n",
       "#sk-container-id-1 div.sk-label.fitted input.sk-toggleable__control:checked~label.sk-toggleable__label {\n",
       "  background-color: var(--sklearn-color-fitted-level-2);\n",
       "}\n",
       "\n",
       "/* Estimator-specific style */\n",
       "\n",
       "/* Colorize estimator box */\n",
       "#sk-container-id-1 div.sk-estimator input.sk-toggleable__control:checked~label.sk-toggleable__label {\n",
       "  /* unfitted */\n",
       "  background-color: var(--sklearn-color-unfitted-level-2);\n",
       "}\n",
       "\n",
       "#sk-container-id-1 div.sk-estimator.fitted input.sk-toggleable__control:checked~label.sk-toggleable__label {\n",
       "  /* fitted */\n",
       "  background-color: var(--sklearn-color-fitted-level-2);\n",
       "}\n",
       "\n",
       "#sk-container-id-1 div.sk-label label.sk-toggleable__label,\n",
       "#sk-container-id-1 div.sk-label label {\n",
       "  /* The background is the default theme color */\n",
       "  color: var(--sklearn-color-text-on-default-background);\n",
       "}\n",
       "\n",
       "/* On hover, darken the color of the background */\n",
       "#sk-container-id-1 div.sk-label:hover label.sk-toggleable__label {\n",
       "  color: var(--sklearn-color-text);\n",
       "  background-color: var(--sklearn-color-unfitted-level-2);\n",
       "}\n",
       "\n",
       "/* Label box, darken color on hover, fitted */\n",
       "#sk-container-id-1 div.sk-label.fitted:hover label.sk-toggleable__label.fitted {\n",
       "  color: var(--sklearn-color-text);\n",
       "  background-color: var(--sklearn-color-fitted-level-2);\n",
       "}\n",
       "\n",
       "/* Estimator label */\n",
       "\n",
       "#sk-container-id-1 div.sk-label label {\n",
       "  font-family: monospace;\n",
       "  font-weight: bold;\n",
       "  display: inline-block;\n",
       "  line-height: 1.2em;\n",
       "}\n",
       "\n",
       "#sk-container-id-1 div.sk-label-container {\n",
       "  text-align: center;\n",
       "}\n",
       "\n",
       "/* Estimator-specific */\n",
       "#sk-container-id-1 div.sk-estimator {\n",
       "  font-family: monospace;\n",
       "  border: 1px dotted var(--sklearn-color-border-box);\n",
       "  border-radius: 0.25em;\n",
       "  box-sizing: border-box;\n",
       "  margin-bottom: 0.5em;\n",
       "  /* unfitted */\n",
       "  background-color: var(--sklearn-color-unfitted-level-0);\n",
       "}\n",
       "\n",
       "#sk-container-id-1 div.sk-estimator.fitted {\n",
       "  /* fitted */\n",
       "  background-color: var(--sklearn-color-fitted-level-0);\n",
       "}\n",
       "\n",
       "/* on hover */\n",
       "#sk-container-id-1 div.sk-estimator:hover {\n",
       "  /* unfitted */\n",
       "  background-color: var(--sklearn-color-unfitted-level-2);\n",
       "}\n",
       "\n",
       "#sk-container-id-1 div.sk-estimator.fitted:hover {\n",
       "  /* fitted */\n",
       "  background-color: var(--sklearn-color-fitted-level-2);\n",
       "}\n",
       "\n",
       "/* Specification for estimator info (e.g. \"i\" and \"?\") */\n",
       "\n",
       "/* Common style for \"i\" and \"?\" */\n",
       "\n",
       ".sk-estimator-doc-link,\n",
       "a:link.sk-estimator-doc-link,\n",
       "a:visited.sk-estimator-doc-link {\n",
       "  float: right;\n",
       "  font-size: smaller;\n",
       "  line-height: 1em;\n",
       "  font-family: monospace;\n",
       "  background-color: var(--sklearn-color-background);\n",
       "  border-radius: 1em;\n",
       "  height: 1em;\n",
       "  width: 1em;\n",
       "  text-decoration: none !important;\n",
       "  margin-left: 1ex;\n",
       "  /* unfitted */\n",
       "  border: var(--sklearn-color-unfitted-level-1) 1pt solid;\n",
       "  color: var(--sklearn-color-unfitted-level-1);\n",
       "}\n",
       "\n",
       ".sk-estimator-doc-link.fitted,\n",
       "a:link.sk-estimator-doc-link.fitted,\n",
       "a:visited.sk-estimator-doc-link.fitted {\n",
       "  /* fitted */\n",
       "  border: var(--sklearn-color-fitted-level-1) 1pt solid;\n",
       "  color: var(--sklearn-color-fitted-level-1);\n",
       "}\n",
       "\n",
       "/* On hover */\n",
       "div.sk-estimator:hover .sk-estimator-doc-link:hover,\n",
       ".sk-estimator-doc-link:hover,\n",
       "div.sk-label-container:hover .sk-estimator-doc-link:hover,\n",
       ".sk-estimator-doc-link:hover {\n",
       "  /* unfitted */\n",
       "  background-color: var(--sklearn-color-unfitted-level-3);\n",
       "  color: var(--sklearn-color-background);\n",
       "  text-decoration: none;\n",
       "}\n",
       "\n",
       "div.sk-estimator.fitted:hover .sk-estimator-doc-link.fitted:hover,\n",
       ".sk-estimator-doc-link.fitted:hover,\n",
       "div.sk-label-container:hover .sk-estimator-doc-link.fitted:hover,\n",
       ".sk-estimator-doc-link.fitted:hover {\n",
       "  /* fitted */\n",
       "  background-color: var(--sklearn-color-fitted-level-3);\n",
       "  color: var(--sklearn-color-background);\n",
       "  text-decoration: none;\n",
       "}\n",
       "\n",
       "/* Span, style for the box shown on hovering the info icon */\n",
       ".sk-estimator-doc-link span {\n",
       "  display: none;\n",
       "  z-index: 9999;\n",
       "  position: relative;\n",
       "  font-weight: normal;\n",
       "  right: .2ex;\n",
       "  padding: .5ex;\n",
       "  margin: .5ex;\n",
       "  width: min-content;\n",
       "  min-width: 20ex;\n",
       "  max-width: 50ex;\n",
       "  color: var(--sklearn-color-text);\n",
       "  box-shadow: 2pt 2pt 4pt #999;\n",
       "  /* unfitted */\n",
       "  background: var(--sklearn-color-unfitted-level-0);\n",
       "  border: .5pt solid var(--sklearn-color-unfitted-level-3);\n",
       "}\n",
       "\n",
       ".sk-estimator-doc-link.fitted span {\n",
       "  /* fitted */\n",
       "  background: var(--sklearn-color-fitted-level-0);\n",
       "  border: var(--sklearn-color-fitted-level-3);\n",
       "}\n",
       "\n",
       ".sk-estimator-doc-link:hover span {\n",
       "  display: block;\n",
       "}\n",
       "\n",
       "/* \"?\"-specific style due to the `<a>` HTML tag */\n",
       "\n",
       "#sk-container-id-1 a.estimator_doc_link {\n",
       "  float: right;\n",
       "  font-size: 1rem;\n",
       "  line-height: 1em;\n",
       "  font-family: monospace;\n",
       "  background-color: var(--sklearn-color-background);\n",
       "  border-radius: 1rem;\n",
       "  height: 1rem;\n",
       "  width: 1rem;\n",
       "  text-decoration: none;\n",
       "  /* unfitted */\n",
       "  color: var(--sklearn-color-unfitted-level-1);\n",
       "  border: var(--sklearn-color-unfitted-level-1) 1pt solid;\n",
       "}\n",
       "\n",
       "#sk-container-id-1 a.estimator_doc_link.fitted {\n",
       "  /* fitted */\n",
       "  border: var(--sklearn-color-fitted-level-1) 1pt solid;\n",
       "  color: var(--sklearn-color-fitted-level-1);\n",
       "}\n",
       "\n",
       "/* On hover */\n",
       "#sk-container-id-1 a.estimator_doc_link:hover {\n",
       "  /* unfitted */\n",
       "  background-color: var(--sklearn-color-unfitted-level-3);\n",
       "  color: var(--sklearn-color-background);\n",
       "  text-decoration: none;\n",
       "}\n",
       "\n",
       "#sk-container-id-1 a.estimator_doc_link.fitted:hover {\n",
       "  /* fitted */\n",
       "  background-color: var(--sklearn-color-fitted-level-3);\n",
       "}\n",
       "</style><div id=\"sk-container-id-1\" class=\"sk-top-container\"><div class=\"sk-text-repr-fallback\"><pre>LassoCV(cv=5)</pre><b>In a Jupyter environment, please rerun this cell to show the HTML representation or trust the notebook. <br />On GitHub, the HTML representation is unable to render, please try loading this page with nbviewer.org.</b></div><div class=\"sk-container\" hidden><div class=\"sk-item\"><div class=\"sk-estimator fitted sk-toggleable\"><input class=\"sk-toggleable__control sk-hidden--visually\" id=\"sk-estimator-id-1\" type=\"checkbox\" checked><label for=\"sk-estimator-id-1\" class=\"sk-toggleable__label fitted sk-toggleable__label-arrow fitted\">&nbsp;&nbsp;LassoCV<a class=\"sk-estimator-doc-link fitted\" rel=\"noreferrer\" target=\"_blank\" href=\"https://scikit-learn.org/1.5/modules/generated/sklearn.linear_model.LassoCV.html\">?<span>Documentation for LassoCV</span></a><span class=\"sk-estimator-doc-link fitted\">i<span>Fitted</span></span></label><div class=\"sk-toggleable__content fitted\"><pre>LassoCV(cv=5)</pre></div> </div></div></div></div>"
      ],
      "text/plain": [
       "LassoCV(cv=5)"
      ]
     },
     "execution_count": 29,
     "metadata": {},
     "output_type": "execute_result"
    }
   ],
   "source": [
    "from sklearn.linear_model import LassoCV\n",
    "lassocv=LassoCV(cv=5)\n",
    "lassocv.fit(X_train_scaled,Y_train)"
   ]
  },
  {
   "cell_type": "code",
   "execution_count": 30,
   "id": "d43eecca",
   "metadata": {},
   "outputs": [
    {
     "data": {
      "text/plain": [
       "array([ 8.25690144,  7.73876123,  6.96043194,  6.3013042 , 13.87533775,\n",
       "        1.3733667 , 10.67584411, -1.10473181,  1.76532579, -0.41935509,\n",
       "        0.52940848,  4.28682616,  1.74498183,  1.50662172, 18.35021578,\n",
       "        6.84213967, 24.86739032, -0.34988272,  7.35746342,  5.08924691,\n",
       "        1.73014009,  0.19967226,  8.08295327,  0.20446452, 20.92255961,\n",
       "       -0.10204819,  5.95075648,  9.82385911,  3.65976889, 14.95597707,\n",
       "        8.47291707, -0.55620098, 10.42825723, 14.4920687 ,  1.47315003,\n",
       "        1.49630377,  0.97921736,  5.91956118, -0.50006979, -0.31487077,\n",
       "        6.56370268,  3.05370741,  3.20925543, -0.52972846, 15.28969178,\n",
       "        8.42126411,  8.47259235,  1.3313304 , 10.25677561,  9.27514447,\n",
       "       28.90437722,  2.21599355,  7.99669696, 19.27501692, 13.8403257 ,\n",
       "       16.07942371, 28.78048122, -0.17032638, -0.38100288, 14.31575487,\n",
       "        9.92334006])"
      ]
     },
     "execution_count": 30,
     "metadata": {},
     "output_type": "execute_result"
    }
   ],
   "source": [
    "lassocv.predict(X_test_scaled)"
   ]
  },
  {
   "cell_type": "code",
   "execution_count": 31,
   "id": "862d4075",
   "metadata": {},
   "outputs": [
    {
     "data": {
      "text/plain": [
       "0.023540632541152396"
      ]
     },
     "execution_count": 31,
     "metadata": {},
     "output_type": "execute_result"
    }
   ],
   "source": [
    "lassocv.alpha_"
   ]
  },
  {
   "cell_type": "code",
   "execution_count": null,
   "id": "2ecbd306",
   "metadata": {},
   "outputs": [
    {
     "data": {
      "text/plain": [
       "array([6.70445658, 6.25259865, 5.83119443, 5.43819144, 5.07167554,\n",
       "       4.72986158, 4.41108474, 4.11379239, 3.83653655, 3.57796683,\n",
       "       3.33682384, 3.11193308, 2.90219921, 2.70660069, 2.52418487,\n",
       "       2.35406325, 2.19540727, 2.04744417, 1.90945328, 1.78076252,\n",
       "       1.66074509, 1.54881643, 1.44443138, 1.34708154, 1.25629276,\n",
       "       1.17162283, 1.09265937, 1.01901779, 0.9503394 , 0.8862897 ,\n",
       "       0.82655674, 0.77084959, 0.7188969 , 0.67044566, 0.62525986,\n",
       "       0.58311944, 0.54381914, 0.50716755, 0.47298616, 0.44110847,\n",
       "       0.41137924, 0.38365366, 0.35779668, 0.33368238, 0.31119331,\n",
       "       0.29021992, 0.27066007, 0.25241849, 0.23540633, 0.21954073,\n",
       "       0.20474442, 0.19094533, 0.17807625, 0.16607451, 0.15488164,\n",
       "       0.14444314, 0.13470815, 0.12562928, 0.11716228, 0.10926594,\n",
       "       0.10190178, 0.09503394, 0.08862897, 0.08265567, 0.07708496,\n",
       "       0.07188969, 0.06704457, 0.06252599, 0.05831194, 0.05438191,\n",
       "       0.05071676, 0.04729862, 0.04411085, 0.04113792, 0.03836537,\n",
       "       0.03577967, 0.03336824, 0.03111933, 0.02902199, 0.02706601,\n",
       "       0.02524185, 0.02354063, 0.02195407, 0.02047444, 0.01909453,\n",
       "       0.01780763, 0.01660745, 0.01548816, 0.01444431, 0.01347082,\n",
       "       0.01256293, 0.01171623, 0.01092659, 0.01019018, 0.00950339,\n",
       "       0.0088629 , 0.00826557, 0.0077085 , 0.00718897, 0.00670446])"
      ]
     },
     "execution_count": 32,
     "metadata": {},
     "output_type": "execute_result"
    }
   ],
   "source": [
    "lassocv.alphas_\n",
    "# ?numb of alphas worked upon"
   ]
  },
  {
   "cell_type": "code",
   "execution_count": null,
   "id": "0adaab43",
   "metadata": {},
   "outputs": [
    {
     "data": {
      "text/plain": [
       "array([[58.91577975, 44.30507327, 54.66745457, 72.80979441, 36.97248445],\n",
       "       [54.08220408, 39.12388795, 49.94600549, 69.53150545, 32.4786371 ],\n",
       "       [48.6362257 , 34.5159559 , 43.94622556, 63.41332128, 28.69216696],\n",
       "       [43.00655732, 30.48823376, 38.28047424, 58.00762221, 24.90656785],\n",
       "       [38.00403596, 26.96649955, 33.35790218, 53.22729559, 21.43636669],\n",
       "       [33.62422836, 23.88611375, 29.08128393, 48.99619187, 18.4914339 ],\n",
       "       [29.78781779, 21.19074095, 25.36616095, 45.24772242, 15.99826876],\n",
       "       [26.42585112, 18.83133423, 22.13893688, 40.44635228, 13.89316887],\n",
       "       [23.47823349, 16.76515197, 19.33610022, 35.76154005, 12.12183164],\n",
       "       [20.89258276, 14.9549708 , 16.90195488, 31.66385988, 10.63652162],\n",
       "       [18.62303629, 13.36829407, 14.78823449, 28.07862112,  9.39625565],\n",
       "       [16.63019294, 11.97685411, 12.9529759 , 24.94051245,  8.36564012],\n",
       "       [14.87910455, 10.75599145, 11.35969704, 22.19192458,  7.51412578],\n",
       "       [13.33948285,  9.68420663,  9.97649503, 19.78478528,  6.81514419],\n",
       "       [11.98490386,  8.74275206,  8.77619263, 17.67507746,  6.24644413],\n",
       "       [10.79230985,  7.91527694,  7.73461229, 15.82514474,  5.78820729],\n",
       "       [ 9.74157602,  7.1875484 ,  6.83091963, 14.20216322,  5.42359288],\n",
       "       [ 8.8151332 ,  6.54705929,  6.04700499, 12.77751611,  5.13811928],\n",
       "       [ 7.99746249,  5.98298133,  5.36712756, 11.52625041,  4.91934526],\n",
       "       [ 7.27553792,  5.48583461,  4.77760622, 10.42660393,  4.75659381],\n",
       "       [ 6.63745072,  5.04734206,  4.26655058,  9.45959369,  4.64056902],\n",
       "       [ 6.07296781,  4.66027501,  3.82344521,  8.60819494,  4.5637452 ],\n",
       "       [ 5.57314291,  4.31831865,  3.43969236,  7.85893965,  4.51925598],\n",
       "       [ 5.13015183,  4.01595481,  3.10728709,  7.19868385,  4.5013845 ],\n",
       "       [ 4.73714919,  3.74835997,  2.8194491 ,  6.61641318,  4.50526037],\n",
       "       [ 4.38814369,  3.51135573,  2.57028777,  6.10251011,  4.52674216],\n",
       "       [ 4.07788936,  3.30117182,  2.35468555,  5.64857339,  4.56231607],\n",
       "       [ 3.80179086,  3.11462158,  2.1681968 ,  5.24726209,  4.60900826],\n",
       "       [ 3.55568994,  2.94887906,  2.00695998,  4.89215981,  4.66424247],\n",
       "       [ 3.33633171,  2.80146929,  1.8676212 ,  4.57765635,  4.72605293],\n",
       "       [ 3.140472  ,  2.67022382,  1.74726776,  4.29884469,  4.79258942],\n",
       "       [ 2.9653916 ,  2.55324185,  1.64337045,  4.05143131,  4.86237485],\n",
       "       [ 2.80870289,  2.44885637,  1.55359015,  3.831431  ,  4.934183  ],\n",
       "       [ 2.66830774,  2.35560462,  1.47631885,  3.63603515,  5.00700147],\n",
       "       [ 2.54236123,  2.27220241,  1.40974596,  3.46210265,  5.0800002 ],\n",
       "       [ 2.43370917,  2.19756764,  1.35243464,  3.30957261,  5.15250432],\n",
       "       [ 2.33900015,  2.13061397,  1.30313877,  3.17865686,  5.22397079],\n",
       "       [ 2.25392738,  2.07051771,  1.26077722,  3.06176344,  5.29396821],\n",
       "       [ 2.17742449,  2.01651156,  1.22441217,  2.95769768,  5.36216145],\n",
       "       [ 2.10854487,  1.96791938,  1.19323032,  2.86494803,  5.42829353],\n",
       "       [ 2.04645337,  1.92414521,  1.16798315,  2.78219143,  5.49217041],\n",
       "       [ 1.99041299,  1.88466334,  1.14670927,  2.70821457,  5.55365729],\n",
       "       [ 1.9396365 ,  1.84900968,  1.12312364,  2.64210276,  5.61266581],\n",
       "       [ 1.87972768,  1.81677418,  1.09805486,  2.5829072 ,  5.66914606],\n",
       "       [ 1.82612043,  1.78651449,  1.07786053,  2.52984323,  5.72403127],\n",
       "       [ 1.77821368,  1.73176383,  1.06166244,  2.48221861,  5.78115348],\n",
       "       [ 1.73534665,  1.68329262,  1.04884731,  2.43942409,  5.81150876],\n",
       "       [ 1.69694367,  1.64034345,  1.03888876,  2.3770189 ,  5.8381628 ],\n",
       "       [ 1.66249874,  1.60229385,  1.03133469,  2.3085965 ,  5.86476073],\n",
       "       [ 1.63156667,  1.56847129,  1.02579729,  2.24711547,  5.89099621],\n",
       "       [ 1.60375554,  1.53841181,  1.02194427,  2.19176868,  5.91674487],\n",
       "       [ 1.57872003,  1.5116688 ,  1.01949134,  2.14201131,  5.94187322],\n",
       "       [ 1.55615569,  1.48785066,  1.01819559,  2.09698407,  5.96627783],\n",
       "       [ 1.53561517,  1.46661406,  1.01775987,  2.05671014,  5.98988117],\n",
       "       [ 1.51722567,  1.44765785,  1.01820456,  2.02096648,  6.01596921],\n",
       "       [ 1.5005987 ,  1.43071773,  1.01926398,  1.99185851,  6.04414568],\n",
       "       [ 1.48556548,  1.41440547,  1.02081881,  1.9580086 ,  6.07271103],\n",
       "       [ 1.46898606,  1.39558403,  1.02276224,  1.92119837,  6.10137495],\n",
       "       [ 1.45353681,  1.35687545,  1.02500379,  1.88893258,  6.12986728],\n",
       "       [ 1.42846105,  1.32240076,  1.00917081,  1.86107721,  6.15797031],\n",
       "       [ 1.3862391 ,  1.29168302,  0.98087341,  1.83682987,  6.18551086],\n",
       "       [ 1.34863234,  1.26426588,  0.95572581,  1.81572336,  6.21236755],\n",
       "       [ 1.31498895,  1.23966847,  0.93333678,  1.79734978,  6.23840205],\n",
       "       [ 1.2848592 ,  1.21776664,  0.9133741 ,  1.78135423,  6.25110246],\n",
       "       [ 1.25784387,  1.19815409,  0.89555681,  1.76742801,  6.26094386],\n",
       "       [ 1.23335145,  1.18057016,  0.87966616,  1.75514229,  6.27964934],\n",
       "       [ 1.21157467,  1.16478611,  0.86542284,  1.7445972 ,  6.29667853],\n",
       "       [ 1.19197527,  1.15060056,  0.85266594,  1.73540383,  6.31407832],\n",
       "       [ 1.17431682,  1.13777982,  0.84122645,  1.72751307,  6.33041602],\n",
       "       [ 1.15838776,  1.12628109,  0.83095597,  1.72081529,  6.34627462],\n",
       "       [ 1.14400128,  1.115912  ,  0.82172387,  1.71544069,  6.36163336],\n",
       "       [ 1.13079177,  1.10654759,  0.81341508,  1.71078077,  6.37645083],\n",
       "       [ 1.11902926,  1.1008725 ,  0.80596738,  1.70675243,  6.39128155],\n",
       "       [ 1.10836701,  1.09648649,  0.79921047,  1.70327137,  6.40495849],\n",
       "       [ 1.09869155,  1.09260732,  0.79310672,  1.7002648 ,  6.41798431],\n",
       "       [ 1.08990162,  1.08940785,  0.78758667,  1.69766949,  6.430415  ],\n",
       "       [ 1.0817309 ,  1.0866786 ,  0.78258851,  1.69545687,  6.4422538 ],\n",
       "       [ 1.07446018,  1.08421879,  0.77805754,  1.69352553,  6.45398096],\n",
       "       [ 1.06783669,  1.08224794,  0.77398382,  1.69185911,  6.46471142],\n",
       "       [ 1.06179265,  1.08057939,  0.77051971,  1.69076039,  6.47480205],\n",
       "       [ 1.0562722 ,  1.07903075,  0.7675628 ,  1.68986844,  6.48435035],\n",
       "       [ 1.05137636,  1.07784448,  0.76495362,  1.68916713,  6.49337784],\n",
       "       [ 1.04735147,  1.07670752,  0.7627641 ,  1.68861566,  6.50190328],\n",
       "       [ 1.04305239,  1.07587764,  0.76158503,  1.68819004,  6.51028021],\n",
       "       [ 1.03899882,  1.07504626,  0.76065746,  1.6878666 ,  6.51794088],\n",
       "       [ 1.03531698,  1.07438331,  0.75992792,  1.6876182 ,  6.52506206],\n",
       "       [ 1.03207357,  1.07507799,  0.75939778,  1.68746046,  6.531755  ],\n",
       "       [ 1.02914229,  1.07519925,  0.7590187 ,  1.68736565,  6.5380711 ],\n",
       "       [ 1.02639197,  1.07587115,  0.7587427 ,  1.68731991,  6.543813  ],\n",
       "       [ 1.02398354,  1.07631168,  0.75811005,  1.68729799,  6.54914584],\n",
       "       [ 1.02180451,  1.0769271 ,  0.75757921,  1.68732679,  6.55416477],\n",
       "       [ 1.01982435,  1.07758252,  0.75716056,  1.68738575,  6.55913714],\n",
       "       [ 1.01802315,  1.07824456,  0.75679463,  1.68746267,  6.56366722],\n",
       "       [ 1.01629535,  1.07873833,  0.75653147,  1.68754073,  6.56783987],\n",
       "       [ 1.01479289,  1.07936948,  0.75632017,  1.68764606,  6.5717463 ],\n",
       "       [ 1.01343401,  1.08002384,  0.75618957,  1.68776602,  6.57559892],\n",
       "       [ 1.01219296,  1.08066485,  0.75610762,  1.68788388,  6.57915053],\n",
       "       [ 1.01105821,  1.08128771,  0.75606531,  1.68799849,  6.58239029],\n",
       "       [ 1.00994385,  1.08174868,  0.75605647,  1.68812429,  6.58540308],\n",
       "       [ 1.00905507,  1.08243964,  0.7560546 ,  1.68825826,  6.58834784]])"
      ]
     },
     "execution_count": 33,
     "metadata": {},
     "output_type": "execute_result"
    }
   ],
   "source": [
    "lassocv.mse_path_\n",
    "# around500"
   ]
  },
  {
   "cell_type": "code",
   "execution_count": 36,
   "id": "31ff7e22",
   "metadata": {},
   "outputs": [
    {
     "name": "stdout",
     "output_type": "stream",
     "text": [
      "mae 0.5902255506705574\n",
      "r2 score 0.989599580707254\n"
     ]
    },
    {
     "data": {
      "image/png": "[encoded data removed]",
      "text/plain": [
       "<Figure size 640x480 with 1 Axes>"
      ]
     },
     "metadata": {},
     "output_type": "display_data"
    }
   ],
   "source": [
    "y_pred=lassocv.predict(X_test_scaled)\n",
    "plt.scatter(Y_test,y_pred)\n",
    "mae=mean_absolute_error(Y_test,y_pred)\n",
    "score=r2_score(Y_test,y_pred)\n",
    "print(\"mae\",mae)\n",
    "print('r2 score',score)"
   ]
  },
  {
   "cell_type": "code",
   "execution_count": null,
   "id": "3e76882c",
   "metadata": {},
   "outputs": [],
   "source": []
  },
  {
   "cell_type": "markdown",
   "id": "d318be90",
   "metadata": {},
   "source": [
    "## RIDGE REGRESSION"
   ]
  },
  {
   "cell_type": "code",
   "execution_count": 27,
   "id": "fdd3659a",
   "metadata": {},
   "outputs": [
    {
     "name": "stdout",
     "output_type": "stream",
     "text": [
      "mae 0.5779554428412208\n",
      "r2 score 0.9896510143175394\n"
     ]
    },
    {
     "data": {
      "text/plain": [
       "<matplotlib.collections.PathCollection at 0x1e1df54bc80>"
      ]
     },
     "execution_count": 27,
     "metadata": {},
     "output_type": "execute_result"
    },
    {
     "data": {
      "image/png": "[encoded data removed]",
      "text/plain": [
       "<Figure size 640x480 with 1 Axes>"
      ]
     },
     "metadata": {},
     "output_type": "display_data"
    }
   ],
   "source": [
    "from sklearn.linear_model import Ridge\n",
    "from sklearn.metrics import mean_absolute_error\n",
    "from sklearn.metrics import r2_score\n",
    "\n",
    "ridge=Ridge()\n",
    "ridge.fit(X_train_scaled,Y_train)\n",
    "y_pred=ridge.predict(X_test_scaled)\n",
    "mae=mean_absolute_error(Y_test,y_pred)\n",
    "score=r2_score(Y_test,y_pred)\n",
    "print(\"mae\",mae)\n",
    "print('r2 score',score)\n",
    "plt.scatter(Y_test,y_pred)\n"
   ]
  },
  {
   "cell_type": "code",
   "execution_count": 37,
   "id": "ef3855ae",
   "metadata": {},
   "outputs": [
    {
     "name": "stdout",
     "output_type": "stream",
     "text": [
      "mae 0.5779554428412208\n",
      "r2 score 0.9896510143175394\n"
     ]
    },
    {
     "data": {
      "text/plain": [
       "<matplotlib.collections.PathCollection at 0x1e1e596cd70>"
      ]
     },
     "execution_count": 37,
     "metadata": {},
     "output_type": "execute_result"
    },
    {
     "data": {
      "image/png": "[encoded data removed]",
      "text/plain": [
       "<Figure size 640x480 with 1 Axes>"
      ]
     },
     "metadata": {},
     "output_type": "display_data"
    }
   ],
   "source": [
    "from sklearn.linear_model import RidgeCV\n",
    "ridgecv=RidgeCV(cv=5)\n",
    "ridgecv.fit(X_train_scaled,Y_train)\n",
    "y_pred=ridgecv.predict(X_test_scaled)\n",
    "mae=mean_absolute_error(Y_test,y_pred)\n",
    "score=r2_score(Y_test,y_pred)\n",
    "print(\"mae\",mae)\n",
    "print('r2 score',score)\n",
    "plt.scatter(Y_test,y_pred)"
   ]
  },
  {
   "cell_type": "code",
   "execution_count": 38,
   "id": "b5c88f8b",
   "metadata": {},
   "outputs": [
    {
     "data": {
      "text/plain": [
       "{'alpha_per_target': False,\n",
       " 'alphas': (0.1, 1.0, 10.0),\n",
       " 'cv': 5,\n",
       " 'fit_intercept': True,\n",
       " 'gcv_mode': None,\n",
       " 'scoring': None,\n",
       " 'store_cv_results': None,\n",
       " 'store_cv_values': 'deprecated'}"
      ]
     },
     "execution_count": 38,
     "metadata": {},
     "output_type": "execute_result"
    }
   ],
   "source": [
    "ridgecv.get_params()"
   ]
  },
  {
   "cell_type": "markdown",
   "id": "5e990020",
   "metadata": {},
   "source": [
    "## elastic net"
   ]
  },
  {
   "cell_type": "code",
   "execution_count": 28,
   "id": "c184431e",
   "metadata": {},
   "outputs": [
    {
     "name": "stdout",
     "output_type": "stream",
     "text": [
      "mae 1.9100570629061813\n",
      "r2 score 0.8776588851433476\n"
     ]
    },
    {
     "data": {
      "text/plain": [
       "<matplotlib.collections.PathCollection at 0x1e1df5b6c90>"
      ]
     },
     "execution_count": 28,
     "metadata": {},
     "output_type": "execute_result"
    },
    {
     "data": {
      "image/png": "[encoded data removed]",
      "text/plain": [
       "<Figure size 640x480 with 1 Axes>"
      ]
     },
     "metadata": {},
     "output_type": "display_data"
    }
   ],
   "source": [
    "from sklearn.linear_model import ElasticNet\n",
    "from sklearn.metrics import mean_absolute_error\n",
    "from sklearn.metrics import r2_score\n",
    "\n",
    "elstic=ElasticNet()\n",
    "elstic.fit(X_train_scaled,Y_train)\n",
    "y_pred=elstic.predict(X_test_scaled)\n",
    "mae=mean_absolute_error(Y_test,y_pred)\n",
    "score=r2_score(Y_test,y_pred)\n",
    "print(\"mae\",mae)\n",
    "print('r2 score',score)\n",
    "plt.scatter(Y_test,y_pred)\n"
   ]
  },
  {
   "cell_type": "code",
   "execution_count": 39,
   "id": "b5276069",
   "metadata": {},
   "outputs": [
    {
     "name": "stdout",
     "output_type": "stream",
     "text": [
      "mae 0.6148342313483073\n",
      "r2 score 0.9888306667580836\n"
     ]
    },
    {
     "data": {
      "text/plain": [
       "<matplotlib.collections.PathCollection at 0x1e1df59c620>"
      ]
     },
     "execution_count": 39,
     "metadata": {},
     "output_type": "execute_result"
    },
    {
     "data": {
      "image/png": "[encoded data removed]",
      "text/plain": [
       "<Figure size 640x480 with 1 Axes>"
      ]
     },
     "metadata": {},
     "output_type": "display_data"
    }
   ],
   "source": [
    "from sklearn.linear_model import ElasticNetCV\n",
    "elasticcv=ElasticNetCV(cv=5)\n",
    "elasticcv.fit(X_train_scaled,Y_train)\n",
    "y_pred=elasticcv.predict(X_test_scaled)\n",
    "mae=mean_absolute_error(Y_test,y_pred)\n",
    "score=r2_score(Y_test,y_pred)\n",
    "print(\"mae\",mae)\n",
    "print('r2 score',score)\n",
    "plt.scatter(Y_test,y_pred)"
   ]
  },
  {
   "cell_type": "code",
   "execution_count": 40,
   "id": "a47221f0",
   "metadata": {},
   "outputs": [
    {
     "data": {
      "text/plain": [
       "0.019006787969382367"
      ]
     },
     "execution_count": 40,
     "metadata": {},
     "output_type": "execute_result"
    }
   ],
   "source": [
    "elasticcv.alpha_ #alpha used"
   ]
  },
  {
   "cell_type": "code",
   "execution_count": 42,
   "id": "49b1ec3f",
   "metadata": {},
   "outputs": [
    {
     "data": {
      "text/plain": [
       "array([13.40891317, 12.5051973 , 11.66238885, 10.87638288, 10.14335107,\n",
       "        9.45972316,  8.82216948,  8.22758478,  7.67307311,  7.15593366,\n",
       "        6.67364768,  6.22386616,  5.80439841,  5.41320139,  5.04836973,\n",
       "        4.70812651,  4.39081454,  4.09488833,  3.81890657,  3.56152504,\n",
       "        3.32149018,  3.09763286,  2.88886277,  2.69416309,  2.51258551,\n",
       "        2.34324566,  2.18531874,  2.03803557,  1.9006788 ,  1.77257941,\n",
       "        1.65311349,  1.54169917,  1.43779381,  1.34089132,  1.25051973,\n",
       "        1.16623889,  1.08763829,  1.01433511,  0.94597232,  0.88221695,\n",
       "        0.82275848,  0.76730731,  0.71559337,  0.66736477,  0.62238662,\n",
       "        0.58043984,  0.54132014,  0.50483697,  0.47081265,  0.43908145,\n",
       "        0.40948883,  0.38189066,  0.3561525 ,  0.33214902,  0.30976329,\n",
       "        0.28888628,  0.26941631,  0.25125855,  0.23432457,  0.21853187,\n",
       "        0.20380356,  0.19006788,  0.17725794,  0.16531135,  0.15416992,\n",
       "        0.14377938,  0.13408913,  0.12505197,  0.11662389,  0.10876383,\n",
       "        0.10143351,  0.09459723,  0.08822169,  0.08227585,  0.07673073,\n",
       "        0.07155934,  0.06673648,  0.06223866,  0.05804398,  0.05413201,\n",
       "        0.0504837 ,  0.04708127,  0.04390815,  0.04094888,  0.03818907,\n",
       "        0.03561525,  0.0332149 ,  0.03097633,  0.02888863,  0.02694163,\n",
       "        0.02512586,  0.02343246,  0.02185319,  0.02038036,  0.01900679,\n",
       "        0.01772579,  0.01653113,  0.01541699,  0.01437794,  0.01340891])"
      ]
     },
     "execution_count": 42,
     "metadata": {},
     "output_type": "execute_result"
    }
   ],
   "source": [
    "# total alphas tested\n",
    "elasticcv.alphas_"
   ]
  },
  {
   "cell_type": "code",
   "execution_count": null,
   "id": "561550e8",
   "metadata": {},
   "outputs": [],
   "source": []
  }
 ],
 "metadata": {
  "kernelspec": {
   "display_name": "base",
   "language": "python",
   "name": "python3"
  },
  "language_info": {
   "codemirror_mode": {
    "name": "ipython",
    "version": 3
   },
   "file_extension": ".py",
   "mimetype": "text/x-python",
   "name": "python",
   "nbconvert_exporter": "python",
   "pygments_lexer": "ipython3",
   "version": "3.12.7"
  }
 },
 "nbformat": 4,
 "nbformat_minor": 5
}
